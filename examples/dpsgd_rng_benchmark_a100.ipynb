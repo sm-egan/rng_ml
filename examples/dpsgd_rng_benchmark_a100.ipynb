{
  "nbformat": 4,
  "nbformat_minor": 0,
  "metadata": {
    "colab": {
      "provenance": [],
      "gpuType": "A100"
    },
    "kernelspec": {
      "name": "python3",
      "display_name": "Python 3"
    },
    "language_info": {
      "name": "python"
    },
    "accelerator": "GPU"
  },
  "cells": [
    {
      "cell_type": "code",
      "execution_count": null,
      "metadata": {
        "id": "R37zM8Kz_8bg"
      },
      "outputs": [],
      "source": []
    },
    {
      "cell_type": "code",
      "source": [
        "# Remove existing installations\n",
        "!pip uninstall -y torch torchvision opacus psutil\n",
        "\n",
        "# Install old versions with specific CUDA build\n",
        "!pip install --quiet torch torchvision opacus\n",
        "#!pip install torchcsprng\n",
        "!pip install --quiet psutil"
      ],
      "metadata": {
        "colab": {
          "base_uri": "https://localhost:8080/"
        },
        "id": "DqP25xSlAQLZ",
        "outputId": "68d6c181-9609-4014-90c4-4fe8ac1e8d02"
      },
      "execution_count": 1,
      "outputs": [
        {
          "output_type": "stream",
          "name": "stdout",
          "text": [
            "Found existing installation: torch 2.5.1+cu121\n",
            "Uninstalling torch-2.5.1+cu121:\n",
            "  Successfully uninstalled torch-2.5.1+cu121\n",
            "Found existing installation: torchvision 0.20.1+cu121\n",
            "Uninstalling torchvision-0.20.1+cu121:\n",
            "  Successfully uninstalled torchvision-0.20.1+cu121\n",
            "\u001b[33mWARNING: Skipping torchcsprng as it is not installed.\u001b[0m\u001b[33m\n",
            "\u001b[0m\u001b[33mWARNING: Skipping opacus as it is not installed.\u001b[0m\u001b[33m\n",
            "\u001b[0mFound existing installation: psutil 5.9.5\n",
            "Uninstalling psutil-5.9.5:\n",
            "  Successfully uninstalled psutil-5.9.5\n",
            "\u001b[2K   \u001b[90m━━━━━━━━━━━━━━━━━━━━━━━━━━━━━━━━━━━━━━━━\u001b[0m \u001b[32m906.4/906.4 MB\u001b[0m \u001b[31m1.2 MB/s\u001b[0m eta \u001b[36m0:00:00\u001b[0m\n",
            "\u001b[2K   \u001b[90m━━━━━━━━━━━━━━━━━━━━━━━━━━━━━━━━━━━━━━━━\u001b[0m \u001b[32m363.4/363.4 MB\u001b[0m \u001b[31m2.3 MB/s\u001b[0m eta \u001b[36m0:00:00\u001b[0m\n",
            "\u001b[2K   \u001b[90m━━━━━━━━━━━━━━━━━━━━━━━━━━━━━━━━━━━━━━━━\u001b[0m \u001b[32m13.8/13.8 MB\u001b[0m \u001b[31m89.1 MB/s\u001b[0m eta \u001b[36m0:00:00\u001b[0m\n",
            "\u001b[2K   \u001b[90m━━━━━━━━━━━━━━━━━━━━━━━━━━━━━━━━━━━━━━━━\u001b[0m \u001b[32m24.6/24.6 MB\u001b[0m \u001b[31m86.6 MB/s\u001b[0m eta \u001b[36m0:00:00\u001b[0m\n",
            "\u001b[2K   \u001b[90m━━━━━━━━━━━━━━━━━━━━━━━━━━━━━━━━━━━━━━━━\u001b[0m \u001b[32m883.7/883.7 kB\u001b[0m \u001b[31m46.2 MB/s\u001b[0m eta \u001b[36m0:00:00\u001b[0m\n",
            "\u001b[2K   \u001b[90m━━━━━━━━━━━━━━━━━━━━━━━━━━━━━━━━━━━━━━━━\u001b[0m \u001b[32m664.8/664.8 MB\u001b[0m \u001b[31m1.3 MB/s\u001b[0m eta \u001b[36m0:00:00\u001b[0m\n",
            "\u001b[2K   \u001b[90m━━━━━━━━━━━━━━━━━━━━━━━━━━━━━━━━━━━━━━━━\u001b[0m \u001b[32m211.5/211.5 MB\u001b[0m \u001b[31m9.5 MB/s\u001b[0m eta \u001b[36m0:00:00\u001b[0m\n",
            "\u001b[2K   \u001b[90m━━━━━━━━━━━━━━━━━━━━━━━━━━━━━━━━━━━━━━━━\u001b[0m \u001b[32m56.3/56.3 MB\u001b[0m \u001b[31m36.8 MB/s\u001b[0m eta \u001b[36m0:00:00\u001b[0m\n",
            "\u001b[2K   \u001b[90m━━━━━━━━━━━━━━━━━━━━━━━━━━━━━━━━━━━━━━━━\u001b[0m \u001b[32m127.9/127.9 MB\u001b[0m \u001b[31m16.2 MB/s\u001b[0m eta \u001b[36m0:00:00\u001b[0m\n",
            "\u001b[2K   \u001b[90m━━━━━━━━━━━━━━━━━━━━━━━━━━━━━━━━━━━━━━━━\u001b[0m \u001b[32m207.5/207.5 MB\u001b[0m \u001b[31m2.6 MB/s\u001b[0m eta \u001b[36m0:00:00\u001b[0m\n",
            "\u001b[2K   \u001b[90m━━━━━━━━━━━━━━━━━━━━━━━━━━━━━━━━━━━━━━━━\u001b[0m \u001b[32m188.7/188.7 MB\u001b[0m \u001b[31m10.6 MB/s\u001b[0m eta \u001b[36m0:00:00\u001b[0m\n",
            "\u001b[2K   \u001b[90m━━━━━━━━━━━━━━━━━━━━━━━━━━━━━━━━━━━━━━━━\u001b[0m \u001b[32m21.1/21.1 MB\u001b[0m \u001b[31m96.1 MB/s\u001b[0m eta \u001b[36m0:00:00\u001b[0m\n",
            "\u001b[2K   \u001b[90m━━━━━━━━━━━━━━━━━━━━━━━━━━━━━━━━━━━━━━━━\u001b[0m \u001b[32m99.1/99.1 kB\u001b[0m \u001b[31m9.6 MB/s\u001b[0m eta \u001b[36m0:00:00\u001b[0m\n",
            "\u001b[2K   \u001b[90m━━━━━━━━━━━━━━━━━━━━━━━━━━━━━━━━━━━━━━━━\u001b[0m \u001b[32m209.5/209.5 MB\u001b[0m \u001b[31m9.4 MB/s\u001b[0m eta \u001b[36m0:00:00\u001b[0m\n",
            "\u001b[2K   \u001b[90m━━━━━━━━━━━━━━━━━━━━━━━━━━━━━━━━━━━━━━━━\u001b[0m \u001b[32m7.2/7.2 MB\u001b[0m \u001b[31m109.6 MB/s\u001b[0m eta \u001b[36m0:00:00\u001b[0m\n",
            "\u001b[2K   \u001b[90m━━━━━━━━━━━━━━━━━━━━━━━━━━━━━━━━━━━━━━━━\u001b[0m \u001b[32m239.9/239.9 kB\u001b[0m \u001b[31m19.6 MB/s\u001b[0m eta \u001b[36m0:00:00\u001b[0m\n",
            "\u001b[?25h\u001b[31mERROR: pip's dependency resolver does not currently take into account all the packages that are installed. This behaviour is the source of the following dependency conflicts.\n",
            "accelerate 1.1.1 requires psutil, which is not installed.\n",
            "peft 0.13.2 requires psutil, which is not installed.\u001b[0m\u001b[31m\n",
            "\u001b[2K   \u001b[90m━━━━━━━━━━━━━━━━━━━━━━━━━━━━━━━━━━━━━━━━\u001b[0m \u001b[32m287.3/287.3 kB\u001b[0m \u001b[31m18.7 MB/s\u001b[0m eta \u001b[36m0:00:00\u001b[0m\n",
            "\u001b[?25h"
          ]
        }
      ]
    },
    {
      "cell_type": "code",
      "source": [
        "# Restart the runtime to ensure new installations are loaded correctly\n",
        "import os\n",
        "os.kill(os.getpid(), 9)"
      ],
      "metadata": {
        "id": "KwxrxLeVJ53b"
      },
      "execution_count": null,
      "outputs": []
    },
    {
      "cell_type": "code",
      "source": [
        "# After restarting, run this cell:\n",
        "import torch\n",
        "import opacus\n",
        "from opacus import PrivacyEngine"
      ],
      "metadata": {
        "id": "ULYBmgULKBpn"
      },
      "execution_count": 1,
      "outputs": []
    },
    {
      "cell_type": "code",
      "source": [
        "# @title Default title text\n",
        "# Verify versions and CUDA\n",
        "print(f\"PyTorch version: {torch.__version__}\")\n",
        "print(f\"Opacus version: {opacus.__version__}\")\n",
        "print(f\"CUDA available: {torch.cuda.is_available()}\")"
      ],
      "metadata": {
        "colab": {
          "base_uri": "https://localhost:8080/"
        },
        "id": "oKQLLz1hKEHY",
        "outputId": "242a661d-73c2-419f-ed08-f1e13c199bd8"
      },
      "execution_count": 2,
      "outputs": [
        {
          "output_type": "stream",
          "name": "stdout",
          "text": [
            "PyTorch version: 2.5.1+cu124\n",
            "Opacus version: 1.5.2\n",
            "CUDA available: True\n"
          ]
        }
      ]
    },
    {
      "cell_type": "markdown",
      "source": [],
      "metadata": {
        "id": "LZlI1z3DKKr6"
      }
    },
    {
      "cell_type": "code",
      "source": [
        "# Show GPU info\n",
        "!nvidia-smi"
      ],
      "metadata": {
        "colab": {
          "base_uri": "https://localhost:8080/"
        },
        "id": "mxAA_wERKLTO",
        "outputId": "1e6ccc54-f550-46e0-b88e-997e042e1d8f"
      },
      "execution_count": 3,
      "outputs": [
        {
          "output_type": "stream",
          "name": "stdout",
          "text": [
            "Fri Nov 29 01:25:23 2024       \n",
            "+---------------------------------------------------------------------------------------+\n",
            "| NVIDIA-SMI 535.104.05             Driver Version: 535.104.05   CUDA Version: 12.2     |\n",
            "|-----------------------------------------+----------------------+----------------------+\n",
            "| GPU  Name                 Persistence-M | Bus-Id        Disp.A | Volatile Uncorr. ECC |\n",
            "| Fan  Temp   Perf          Pwr:Usage/Cap |         Memory-Usage | GPU-Util  Compute M. |\n",
            "|                                         |                      |               MIG M. |\n",
            "|=========================================+======================+======================|\n",
            "|   0  NVIDIA A100-SXM4-40GB          Off | 00000000:00:04.0 Off |                    0 |\n",
            "| N/A   33C    P0              44W / 400W |      5MiB / 40960MiB |      0%      Default |\n",
            "|                                         |                      |             Disabled |\n",
            "+-----------------------------------------+----------------------+----------------------+\n",
            "                                                                                         \n",
            "+---------------------------------------------------------------------------------------+\n",
            "| Processes:                                                                            |\n",
            "|  GPU   GI   CI        PID   Type   Process name                            GPU Memory |\n",
            "|        ID   ID                                                             Usage      |\n",
            "|=======================================================================================|\n",
            "|  No running processes found                                                           |\n",
            "+---------------------------------------------------------------------------------------+\n"
          ]
        }
      ]
    },
    {
      "cell_type": "code",
      "source": [
        "# Test CUDA setup\n",
        "device = torch.device(\"cuda\")\n",
        "print(f\"\\nUsing device: {device}\")\n",
        "print(f\"Device properties:\")\n",
        "print(f\"  Name: {torch.cuda.get_device_name(0)}\")\n",
        "print(f\"  Memory allocated: {torch.cuda.memory_allocated(0) / 1024**2:.2f} MB\")\n",
        "print(f\"  Memory cached: {torch.cuda.memory_reserved(0) / 1024**2:.2f} MB\")"
      ],
      "metadata": {
        "colab": {
          "base_uri": "https://localhost:8080/"
        },
        "id": "KuSyNZPkKNXb",
        "outputId": "be786540-3ae2-4b8a-bb81-5351c38fdf03"
      },
      "execution_count": 4,
      "outputs": [
        {
          "output_type": "stream",
          "name": "stdout",
          "text": [
            "\n",
            "Using device: cuda\n",
            "Device properties:\n",
            "  Name: NVIDIA A100-SXM4-40GB\n",
            "  Memory allocated: 0.00 MB\n",
            "  Memory cached: 0.00 MB\n"
          ]
        }
      ]
    },
    {
      "cell_type": "code",
      "source": [
        "# Try a minimal DP setup\n",
        "model = torch.nn.Linear(10, 2)\n",
        "optimizer = torch.optim.SGD(model.parameters(), lr=0.1)\n",
        "privacy_engine = PrivacyEngine()\n",
        "\n",
        "model.to(device)\n",
        "print(\"\\nBasic DP setup successful\")"
      ],
      "metadata": {
        "colab": {
          "base_uri": "https://localhost:8080/"
        },
        "id": "E0EQIlmBKO-l",
        "outputId": "e34ab8df-c805-43c6-9f1a-87b5e885b866"
      },
      "execution_count": null,
      "outputs": [
        {
          "output_type": "stream",
          "name": "stdout",
          "text": [
            "\n",
            "Basic DP setup successful\n"
          ]
        },
        {
          "output_type": "stream",
          "name": "stderr",
          "text": [
            "/usr/local/lib/python3.10/dist-packages/opacus/privacy_engine.py:95: UserWarning: Secure RNG turned off. This is perfectly fine for experimentation as it allows for much faster training performance, but remember to turn it on and retrain one last time before production with ``secure_mode`` turned on.\n",
            "  warnings.warn(\n"
          ]
        }
      ]
    },
    {
      "cell_type": "code",
      "source": [
        "from google.colab import files\n",
        "\n",
        "# Upload the dpsgd_rng_benchmark.py and model.py\n",
        "uploaded = files.upload()"
      ],
      "metadata": {
        "colab": {
          "base_uri": "https://localhost:8080/",
          "height": 109
        },
        "id": "F0bZzdryK7LF",
        "outputId": "e4f911bd-f8c0-4de7-cf01-36519269d16a"
      },
      "execution_count": 5,
      "outputs": [
        {
          "output_type": "display_data",
          "data": {
            "text/plain": [
              "<IPython.core.display.HTML object>"
            ],
            "text/html": [
              "\n",
              "     <input type=\"file\" id=\"files-b1ab5850-502a-4362-ac68-d2eadcaac66f\" name=\"files[]\" multiple disabled\n",
              "        style=\"border:none\" />\n",
              "     <output id=\"result-b1ab5850-502a-4362-ac68-d2eadcaac66f\">\n",
              "      Upload widget is only available when the cell has been executed in the\n",
              "      current browser session. Please rerun this cell to enable.\n",
              "      </output>\n",
              "      <script>// Copyright 2017 Google LLC\n",
              "//\n",
              "// Licensed under the Apache License, Version 2.0 (the \"License\");\n",
              "// you may not use this file except in compliance with the License.\n",
              "// You may obtain a copy of the License at\n",
              "//\n",
              "//      http://www.apache.org/licenses/LICENSE-2.0\n",
              "//\n",
              "// Unless required by applicable law or agreed to in writing, software\n",
              "// distributed under the License is distributed on an \"AS IS\" BASIS,\n",
              "// WITHOUT WARRANTIES OR CONDITIONS OF ANY KIND, either express or implied.\n",
              "// See the License for the specific language governing permissions and\n",
              "// limitations under the License.\n",
              "\n",
              "/**\n",
              " * @fileoverview Helpers for google.colab Python module.\n",
              " */\n",
              "(function(scope) {\n",
              "function span(text, styleAttributes = {}) {\n",
              "  const element = document.createElement('span');\n",
              "  element.textContent = text;\n",
              "  for (const key of Object.keys(styleAttributes)) {\n",
              "    element.style[key] = styleAttributes[key];\n",
              "  }\n",
              "  return element;\n",
              "}\n",
              "\n",
              "// Max number of bytes which will be uploaded at a time.\n",
              "const MAX_PAYLOAD_SIZE = 100 * 1024;\n",
              "\n",
              "function _uploadFiles(inputId, outputId) {\n",
              "  const steps = uploadFilesStep(inputId, outputId);\n",
              "  const outputElement = document.getElementById(outputId);\n",
              "  // Cache steps on the outputElement to make it available for the next call\n",
              "  // to uploadFilesContinue from Python.\n",
              "  outputElement.steps = steps;\n",
              "\n",
              "  return _uploadFilesContinue(outputId);\n",
              "}\n",
              "\n",
              "// This is roughly an async generator (not supported in the browser yet),\n",
              "// where there are multiple asynchronous steps and the Python side is going\n",
              "// to poll for completion of each step.\n",
              "// This uses a Promise to block the python side on completion of each step,\n",
              "// then passes the result of the previous step as the input to the next step.\n",
              "function _uploadFilesContinue(outputId) {\n",
              "  const outputElement = document.getElementById(outputId);\n",
              "  const steps = outputElement.steps;\n",
              "\n",
              "  const next = steps.next(outputElement.lastPromiseValue);\n",
              "  return Promise.resolve(next.value.promise).then((value) => {\n",
              "    // Cache the last promise value to make it available to the next\n",
              "    // step of the generator.\n",
              "    outputElement.lastPromiseValue = value;\n",
              "    return next.value.response;\n",
              "  });\n",
              "}\n",
              "\n",
              "/**\n",
              " * Generator function which is called between each async step of the upload\n",
              " * process.\n",
              " * @param {string} inputId Element ID of the input file picker element.\n",
              " * @param {string} outputId Element ID of the output display.\n",
              " * @return {!Iterable<!Object>} Iterable of next steps.\n",
              " */\n",
              "function* uploadFilesStep(inputId, outputId) {\n",
              "  const inputElement = document.getElementById(inputId);\n",
              "  inputElement.disabled = false;\n",
              "\n",
              "  const outputElement = document.getElementById(outputId);\n",
              "  outputElement.innerHTML = '';\n",
              "\n",
              "  const pickedPromise = new Promise((resolve) => {\n",
              "    inputElement.addEventListener('change', (e) => {\n",
              "      resolve(e.target.files);\n",
              "    });\n",
              "  });\n",
              "\n",
              "  const cancel = document.createElement('button');\n",
              "  inputElement.parentElement.appendChild(cancel);\n",
              "  cancel.textContent = 'Cancel upload';\n",
              "  const cancelPromise = new Promise((resolve) => {\n",
              "    cancel.onclick = () => {\n",
              "      resolve(null);\n",
              "    };\n",
              "  });\n",
              "\n",
              "  // Wait for the user to pick the files.\n",
              "  const files = yield {\n",
              "    promise: Promise.race([pickedPromise, cancelPromise]),\n",
              "    response: {\n",
              "      action: 'starting',\n",
              "    }\n",
              "  };\n",
              "\n",
              "  cancel.remove();\n",
              "\n",
              "  // Disable the input element since further picks are not allowed.\n",
              "  inputElement.disabled = true;\n",
              "\n",
              "  if (!files) {\n",
              "    return {\n",
              "      response: {\n",
              "        action: 'complete',\n",
              "      }\n",
              "    };\n",
              "  }\n",
              "\n",
              "  for (const file of files) {\n",
              "    const li = document.createElement('li');\n",
              "    li.append(span(file.name, {fontWeight: 'bold'}));\n",
              "    li.append(span(\n",
              "        `(${file.type || 'n/a'}) - ${file.size} bytes, ` +\n",
              "        `last modified: ${\n",
              "            file.lastModifiedDate ? file.lastModifiedDate.toLocaleDateString() :\n",
              "                                    'n/a'} - `));\n",
              "    const percent = span('0% done');\n",
              "    li.appendChild(percent);\n",
              "\n",
              "    outputElement.appendChild(li);\n",
              "\n",
              "    const fileDataPromise = new Promise((resolve) => {\n",
              "      const reader = new FileReader();\n",
              "      reader.onload = (e) => {\n",
              "        resolve(e.target.result);\n",
              "      };\n",
              "      reader.readAsArrayBuffer(file);\n",
              "    });\n",
              "    // Wait for the data to be ready.\n",
              "    let fileData = yield {\n",
              "      promise: fileDataPromise,\n",
              "      response: {\n",
              "        action: 'continue',\n",
              "      }\n",
              "    };\n",
              "\n",
              "    // Use a chunked sending to avoid message size limits. See b/62115660.\n",
              "    let position = 0;\n",
              "    do {\n",
              "      const length = Math.min(fileData.byteLength - position, MAX_PAYLOAD_SIZE);\n",
              "      const chunk = new Uint8Array(fileData, position, length);\n",
              "      position += length;\n",
              "\n",
              "      const base64 = btoa(String.fromCharCode.apply(null, chunk));\n",
              "      yield {\n",
              "        response: {\n",
              "          action: 'append',\n",
              "          file: file.name,\n",
              "          data: base64,\n",
              "        },\n",
              "      };\n",
              "\n",
              "      let percentDone = fileData.byteLength === 0 ?\n",
              "          100 :\n",
              "          Math.round((position / fileData.byteLength) * 100);\n",
              "      percent.textContent = `${percentDone}% done`;\n",
              "\n",
              "    } while (position < fileData.byteLength);\n",
              "  }\n",
              "\n",
              "  // All done.\n",
              "  yield {\n",
              "    response: {\n",
              "      action: 'complete',\n",
              "    }\n",
              "  };\n",
              "}\n",
              "\n",
              "scope.google = scope.google || {};\n",
              "scope.google.colab = scope.google.colab || {};\n",
              "scope.google.colab._files = {\n",
              "  _uploadFiles,\n",
              "  _uploadFilesContinue,\n",
              "};\n",
              "})(self);\n",
              "</script> "
            ]
          },
          "metadata": {}
        },
        {
          "output_type": "stream",
          "name": "stdout",
          "text": [
            "Saving dpsgd_rng_benchmark.py to dpsgd_rng_benchmark.py\n",
            "Saving model.py to model.py\n"
          ]
        }
      ]
    },
    {
      "cell_type": "code",
      "source": [
        "!ls *.py"
      ],
      "metadata": {
        "colab": {
          "base_uri": "https://localhost:8080/"
        },
        "id": "iAxvZq6hLVex",
        "outputId": "f6798843-0f96-4143-8bdd-7755c6f6d9f0"
      },
      "execution_count": 6,
      "outputs": [
        {
          "output_type": "stream",
          "name": "stdout",
          "text": [
            "dpsgd_rng_benchmark.py\tmodel.py\n"
          ]
        }
      ]
    },
    {
      "cell_type": "code",
      "source": [
        "from dpsgd_rng_benchmark import main\n",
        "\n",
        "main(\"resnet\")\n",
        "main(\"resnet\", poisson_sampling=False)"
      ],
      "metadata": {
        "colab": {
          "base_uri": "https://localhost:8080/"
        },
        "id": "oUz9siagLiXd",
        "outputId": "89ba77bc-c046-4c48-f975-5c3486b15cb0"
      },
      "execution_count": 7,
      "outputs": [
        {
          "output_type": "stream",
          "name": "stdout",
          "text": [
            "\n",
            "Running resnet benchmark WITH poisson subsampling\n",
            "Initializing privacy engine...\n",
            "Creating dummy dataset...\n",
            "Setting up private model and optimizer...\n",
            "Private model setup complete.\n",
            "\n",
            "Warmup...\n",
            "\n",
            "DPSGD Settings:\n",
            "Privacy Engine noise_multiplier: 1.0\n",
            "Optimizer noise_multiplier: 1.0\n"
          ]
        },
        {
          "output_type": "stream",
          "name": "stderr",
          "text": [
            "/usr/local/lib/python3.10/dist-packages/opacus/privacy_engine.py:95: UserWarning: Secure RNG turned off. This is perfectly fine for experimentation as it allows for much faster training performance, but remember to turn it on and retrain one last time before production with ``secure_mode`` turned on.\n",
            "  warnings.warn(\n",
            "/usr/local/lib/python3.10/dist-packages/torch/nn/modules/module.py:1827: FutureWarning: Using a non-full backward hook when the forward contains multiple autograd Nodes is deprecated and will be removed in future versions. This hook will be missing some grad_input. Please use register_full_backward_hook to get the documented behavior.\n",
            "  self._maybe_warn_non_full_backward_hook(args, result, grad_fn)\n"
          ]
        },
        {
          "output_type": "stream",
          "name": "stdout",
          "text": [
            "\n",
            "Noise Generation std parameter: 1.0\n",
            "\n",
            "DPSGD_NO_NOISE Settings:\n",
            "Privacy Engine noise_multiplier: 0.0\n",
            "Optimizer noise_multiplier: 0.0\n",
            "\n",
            "Running main benchmark...\n",
            "Iteration 0/100\n",
            "Iteration 10/100\n",
            "Iteration 20/100\n",
            "Iteration 30/100\n",
            "Iteration 40/100\n",
            "Iteration 50/100\n",
            "Iteration 60/100\n",
            "Iteration 70/100\n",
            "Iteration 80/100\n",
            "Iteration 90/100\n",
            "\n",
            "==================================================\n",
            "SAMPLING MODE: POISSON\n",
            "==================================================\n",
            "\n",
            "\n",
            "Benchmark Results:\n",
            "--------------------------------------------------------------------------------\n",
            "\n",
            "DPSGD:\n",
            "Average step time: 40.13 ms (± 6.60 ms)\n",
            "Throughput: 797.39 examples/sec\n",
            "\n",
            "Memory Usage:\n",
            "CPU Memory: 1132.79 MB\n",
            "\n",
            "Peak Memory Usage:\n",
            "Peak CPU Memory: 0.00 MB\n",
            "\n",
            "DPSGD_NO_NOISE:\n",
            "Average step time: 40.30 ms (± 9.17 ms)\n",
            "Throughput: 794.01 examples/sec\n",
            "\n",
            "Memory Usage:\n",
            "CPU Memory: 1132.85 MB\n",
            "\n",
            "Peak Memory Usage:\n",
            "Peak CPU Memory: 0.00 MB\n",
            "\n",
            "Detailed Timing Statistics:\n",
            "--------------------------------------------------------------------------------\n",
            "data_sampling       :     1.14 ±   0.15\n",
            "forward_backward    :    31.21 ±   7.28\n",
            "optimizer_step      :     8.94 ±   2.79\n",
            "noise_generation_zero:   0.0153 ± 0.0081\n",
            "noise_generation_nonzero:   0.0336 ± 0.0201\n",
            "\n",
            "Running resnet benchmark WITHOUT poisson subsampling\n",
            "Initializing privacy engine...\n",
            "Creating dummy dataset...\n",
            "Setting up private model and optimizer...\n",
            "Private model setup complete.\n",
            "\n",
            "Warmup...\n",
            "\n",
            "DPSGD Settings:\n",
            "Privacy Engine noise_multiplier: 1.0\n",
            "Optimizer noise_multiplier: 1.0\n",
            "\n",
            "Noise Generation std parameter: 1.0\n",
            "\n",
            "DPSGD_NO_NOISE Settings:\n",
            "Privacy Engine noise_multiplier: 0.0\n",
            "Optimizer noise_multiplier: 0.0\n",
            "\n",
            "Running main benchmark...\n",
            "Iteration 0/100\n",
            "Iteration 10/100\n",
            "Iteration 20/100\n",
            "Iteration 30/100\n",
            "Iteration 40/100\n",
            "Iteration 50/100\n",
            "Iteration 60/100\n",
            "Iteration 70/100\n",
            "Iteration 80/100\n",
            "Iteration 90/100\n",
            "\n",
            "==================================================\n",
            "SAMPLING MODE: STANDARD\n",
            "==================================================\n",
            "\n",
            "\n",
            "Benchmark Results:\n",
            "--------------------------------------------------------------------------------\n",
            "\n",
            "DPSGD:\n",
            "Average step time: 40.86 ms (± 1.02 ms)\n",
            "Throughput: 783.09 examples/sec\n",
            "\n",
            "Memory Usage:\n",
            "CPU Memory: 1133.91 MB\n",
            "\n",
            "Peak Memory Usage:\n",
            "Peak CPU Memory: 0.00 MB\n",
            "\n",
            "DPSGD_NO_NOISE:\n",
            "Average step time: 39.49 ms (± 0.78 ms)\n",
            "Throughput: 810.30 examples/sec\n",
            "\n",
            "Memory Usage:\n",
            "CPU Memory: 1133.91 MB\n",
            "\n",
            "Peak Memory Usage:\n",
            "Peak CPU Memory: 0.00 MB\n",
            "\n",
            "Detailed Timing Statistics:\n",
            "--------------------------------------------------------------------------------\n",
            "data_sampling       :     0.64 ±   0.15\n",
            "forward_backward    :    29.41 ±   0.59\n",
            "optimizer_step      :    10.70 ±   0.89\n",
            "noise_generation_zero:   0.0149 ± 0.0050\n",
            "noise_generation_nonzero:   0.0326 ± 0.0104\n"
          ]
        }
      ]
    },
    {
      "cell_type": "code",
      "source": [
        "main(\"transformer\")\n",
        "main(\"transformer\", poisson_sampling=False)"
      ],
      "metadata": {
        "id": "jJYb0P7XtPlL",
        "colab": {
          "base_uri": "https://localhost:8080/"
        },
        "outputId": "1e38a1b8-d244-4ace-d08c-c8bbf3e31253"
      },
      "execution_count": 8,
      "outputs": [
        {
          "output_type": "stream",
          "name": "stdout",
          "text": [
            "\n",
            "Running transformer benchmark WITH poisson subsampling\n",
            "Initializing privacy engine...\n",
            "Creating dummy dataset...\n",
            "Setting up private model and optimizer...\n",
            "Private model setup complete.\n",
            "\n",
            "Warmup...\n",
            "\n",
            "DPSGD Settings:\n",
            "Privacy Engine noise_multiplier: 1.0\n",
            "Optimizer noise_multiplier: 1.0\n",
            "\n",
            "DPSGD_NO_NOISE Settings:\n",
            "Privacy Engine noise_multiplier: 0.0\n",
            "Optimizer noise_multiplier: 0.0\n",
            "\n",
            "Noise Generation std parameter: 0.0\n",
            "\n",
            "Running main benchmark...\n",
            "Iteration 0/100\n",
            "Iteration 10/100\n",
            "Iteration 20/100\n",
            "Iteration 30/100\n",
            "Iteration 40/100\n",
            "Iteration 50/100\n",
            "Iteration 60/100\n",
            "Iteration 70/100\n",
            "Iteration 80/100\n",
            "Iteration 90/100\n",
            "\n",
            "==================================================\n",
            "SAMPLING MODE: POISSON\n",
            "==================================================\n",
            "\n",
            "\n",
            "Benchmark Results:\n",
            "--------------------------------------------------------------------------------\n",
            "\n",
            "DPSGD:\n",
            "Average step time: 18.66 ms (± 1.73 ms)\n",
            "Throughput: 1715.20 examples/sec\n",
            "\n",
            "Memory Usage:\n",
            "CPU Memory: 1150.00 MB\n",
            "\n",
            "Peak Memory Usage:\n",
            "Peak CPU Memory: 0.00 MB\n",
            "\n",
            "DPSGD_NO_NOISE:\n",
            "Average step time: 18.49 ms (± 1.46 ms)\n",
            "Throughput: 1730.93 examples/sec\n",
            "\n",
            "Memory Usage:\n",
            "CPU Memory: 1150.00 MB\n",
            "\n",
            "Peak Memory Usage:\n",
            "Peak CPU Memory: 0.00 MB\n",
            "\n",
            "Detailed Timing Statistics:\n",
            "--------------------------------------------------------------------------------\n",
            "data_sampling       :     1.15 ±   0.16\n",
            "forward_backward    :    13.40 ±   0.58\n",
            "optimizer_step      :     5.11 ±   1.46\n",
            "noise_generation_zero:   0.0154 ± 0.0142\n",
            "noise_generation_nonzero:   0.0328 ± 0.0094\n",
            "\n",
            "Running transformer benchmark WITHOUT poisson subsampling\n",
            "Initializing privacy engine...\n",
            "Creating dummy dataset...\n",
            "Setting up private model and optimizer...\n",
            "Private model setup complete.\n",
            "\n",
            "Warmup...\n",
            "\n",
            "DPSGD Settings:\n",
            "Privacy Engine noise_multiplier: 1.0\n",
            "Optimizer noise_multiplier: 1.0\n",
            "\n",
            "Noise Generation std parameter: 1.0\n",
            "\n",
            "DPSGD_NO_NOISE Settings:\n",
            "Privacy Engine noise_multiplier: 0.0\n",
            "Optimizer noise_multiplier: 0.0\n",
            "\n",
            "Running main benchmark...\n",
            "Iteration 0/100\n",
            "Iteration 10/100\n",
            "Iteration 20/100\n",
            "Iteration 30/100\n",
            "Iteration 40/100\n",
            "Iteration 50/100\n",
            "Iteration 60/100\n",
            "Iteration 70/100\n",
            "Iteration 80/100\n",
            "Iteration 90/100\n",
            "\n",
            "==================================================\n",
            "SAMPLING MODE: STANDARD\n",
            "==================================================\n",
            "\n",
            "\n",
            "Benchmark Results:\n",
            "--------------------------------------------------------------------------------\n",
            "\n",
            "DPSGD:\n",
            "Average step time: 19.33 ms (± 0.40 ms)\n",
            "Throughput: 1655.44 examples/sec\n",
            "\n",
            "Memory Usage:\n",
            "CPU Memory: 1153.71 MB\n",
            "\n",
            "Peak Memory Usage:\n",
            "Peak CPU Memory: 0.00 MB\n",
            "\n",
            "DPSGD_NO_NOISE:\n",
            "Average step time: 18.72 ms (± 0.44 ms)\n",
            "Throughput: 1709.81 examples/sec\n",
            "\n",
            "Memory Usage:\n",
            "CPU Memory: 1153.71 MB\n",
            "\n",
            "Peak Memory Usage:\n",
            "Peak CPU Memory: 0.00 MB\n",
            "\n",
            "Detailed Timing Statistics:\n",
            "--------------------------------------------------------------------------------\n",
            "data_sampling       :     0.61 ±   0.12\n",
            "forward_backward    :    12.88 ±   0.24\n",
            "optimizer_step      :     6.09 ±   0.44\n",
            "noise_generation_zero:   0.0156 ± 0.0174\n",
            "noise_generation_nonzero:   0.0323 ± 0.0084\n"
          ]
        }
      ]
    },
    {
      "cell_type": "code",
      "source": [],
      "metadata": {
        "id": "t0M4xFqQSmWO"
      },
      "execution_count": null,
      "outputs": []
    }
  ]
}